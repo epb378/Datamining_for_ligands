{
  "nbformat": 4,
  "nbformat_minor": 0,
  "metadata": {
    "colab": {
      "name": "Integrated_datamining_to_ranked_pipeline.ipynb",
      "provenance": [],
      "authorship_tag": "ABX9TyOxtrX+h2uMxkezKMm1J5RC",
      "include_colab_link": true
    },
    "kernelspec": {
      "name": "python3",
      "display_name": "Python 3"
    }
  },
  "cells": [
    {
      "cell_type": "markdown",
      "metadata": {
        "id": "view-in-github",
        "colab_type": "text"
      },
      "source": [
        "<a href=\"https://colab.research.google.com/github/epb378/Datamining_for_ligands/blob/main/Integrated_datamining_to_ranked_pipeline.ipynb\" target=\"_parent\"><img src=\"https://colab.research.google.com/assets/colab-badge.svg\" alt=\"Open In Colab\"/></a>"
      ]
    },
    {
      "cell_type": "markdown",
      "metadata": {
        "id": "8OwhSKU-zTfs"
      },
      "source": [
        "**Datamining and ranking of nanoparticle ligands for antiviral properties**\n",
        "\n",
        "The purpose of this notebook is to scrape the literature for references to nanoparticles, look in those articles for mentions of coordinating solvents, ligands, surfactants etc. Those chemicals will then be associated with a CIDS number, a SMILES formula, and then that SMILES will be turned into a 3D structure. That 3D structure will be docked with the spike glycoprotein of the Sars-COV-2 virus, which and the dockings will be scored. These scores will tell us the best ligands to coat nanoparticles with so that the nanoparticles bind effectively with the virus, and they can deactivate the virus.\n",
        "\n",
        "**Status - November 12th 2020**\n",
        "\n",
        "As of today the project has most of the components ready, albeit in pieces. \n",
        "\n",
        "**Datamining**\n",
        "\n",
        "*IEEE*: possible via their API, although that gives limited access (blocks heavy usage) - Need to optimize scraping to be under their threshold. Would be great if could just be ticking over. So far have only accessed open-access fulltexts - can I access via uOttawa's VPN?\n",
        "\n",
        "*RSC*: They will unblock my home IP address (at 121 Glenora street) for a month's datamining. I need to set up a raspberry pi to do this datamining (with access to fulltexts via uOttawa's VPN? does this change my IP address?) continuously, but slowly, keeping track of the texts mined permanently (backing up via email and to the pi itself.\n",
        "\n",
        "**Scraping fulltexts for chemicals**\n",
        "\n",
        "This is totally doable at the moment, made into an importable function. Uses chemdataextractor to do this. Gets chemicals, [filters for pure elements](https://github.com/epb378/Datamining_for_ligands/blob/main/chemicalfilters.py). See [#link to file#](https://github.com/epb378/Datamining_for_ligands/blob/main/ligandfinder.py). Would be good to check against existing chemicals in database\n",
        "\n",
        "**Chemical names to CIDS to SMILES** \n",
        "\n",
        "Made to work sustainably via ### and ###. Need to make into an importable function and document clearly.\n",
        "\n",
        "**Implement Galaxy project pipeline in Python or colab or raspberry pi**\n",
        "\n",
        "So far it is possible to enumerate the charges on a molecule via the ### python library, and then convert these enumarated SMILES into SDF structures. These structures then need to be docked and the dockings scored with galaxy as I have not figured out how to bind either rDock or the scoring program to Python - to do! The docking is carried out on the wrong Sars-COV-2 protein at the moment, not a huge problem for now, but would be good to get this right before implementation at the next level (i.e. continuously/large batches would be annoying to redo.\n",
        "\n",
        "\n",
        "\n",
        "**Representation of best compounds and post-filtering**\n",
        "\n",
        "Remains an area of investigation, lower priority since there are not a huge amount of chemicals found as of today.\n",
        "\n",
        "\n",
        "**TO DO:**\n",
        "\n",
        "*   Set up RSC datamining process\n",
        "*   Access RSC and IEEE documents programatically\n",
        "*   Organise pipeline (at least up to packet ready to dock) so that it can contiguously deliver me packets of chemicals to dock (1 a day or week etc.)\n",
        "*   Organize CIDS -> SMILES -> SDF file as a callable function\n",
        "*   Set up raspberry pi to run this in Ottawa while I am away (power cable, wifi, SD card etc all good! If I get a desktop before I go then even better!)\n",
        "*   Need to be able to SSH into pi\n",
        "*   Get spike glycoprotein integrated into workflow (not the other protein)\n",
        "*   Programatically dock and score chemicals\n",
        "*   Check found chemicals against those already in database"
      ]
    },
    {
      "cell_type": "code",
      "metadata": {
        "id": "w7A6S_89zPZC"
      },
      "source": [
        ""
      ],
      "execution_count": null,
      "outputs": []
    },
    {
      "cell_type": "markdown",
      "metadata": {
        "id": "nhgU-Z4RWET_"
      },
      "source": [
        "**UPDATE November 25th**\n",
        "\n",
        "- RSC datamining process organized (at least on COLAB!)\n",
        "- Can download RSC papers from their search page\n",
        "- Have pipeline to take articles to charge enumerated SMILES turned into SDF.\n",
        "- Have spike glycoprotein and ACE2 to identify active region\n",
        "\n",
        "\n",
        "**TO DO:**\n",
        "\n",
        " - Dock programmatically\n",
        " - Set up PI at home to run all the code\n",
        " - SSH into PI which can run the scraping->SDFs ->email-> Galaxy\n",
        " - Keep good records of found chemicals (journal, chemical name, etc)\n",
        " - Write article draft\n",
        " - Think of how to present results for letter"
      ]
    },
    {
      "cell_type": "code",
      "metadata": {
        "id": "F0GL1x7GXN0i"
      },
      "source": [
        ""
      ],
      "execution_count": null,
      "outputs": []
    },
    {
      "cell_type": "markdown",
      "metadata": {
        "id": "N5NNlEBoX2MS"
      },
      "source": [
        "**[The link to the pipeline working code dump](https://colab.research.google.com/drive/1LKtXub1NV7PIRab--QRcnQJXqlzI3kdp?usp=sharing)**"
      ]
    },
    {
      "cell_type": "code",
      "metadata": {
        "id": "ScKUCZp_X1mi"
      },
      "source": [
        ""
      ],
      "execution_count": null,
      "outputs": []
    }
  ]
}