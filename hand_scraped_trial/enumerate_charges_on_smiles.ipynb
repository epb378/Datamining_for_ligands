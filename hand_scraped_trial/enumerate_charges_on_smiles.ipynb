{
  "nbformat": 4,
  "nbformat_minor": 0,
  "metadata": {
    "colab": {
      "name": "enumerate charges on smiles.ipynb",
      "provenance": [],
      "collapsed_sections": [],
      "authorship_tag": "ABX9TyNMjFEs58BpMdnSK+cfBLKu",
      "include_colab_link": true
    },
    "kernelspec": {
      "name": "python3",
      "display_name": "Python 3"
    }
  },
  "cells": [
    {
      "cell_type": "markdown",
      "metadata": {
        "id": "view-in-github",
        "colab_type": "text"
      },
      "source": [
        "<a href=\"https://colab.research.google.com/github/epb378/Datamining_for_ligands/blob/main/hand_scraped_trial/enumerate_charges_on_smiles.ipynb\" target=\"_parent\"><img src=\"https://colab.research.google.com/assets/colab-badge.svg\" alt=\"Open In Colab\"/></a>"
      ]
    },
    {
      "cell_type": "markdown",
      "metadata": {
        "id": "mgjRFsc9mNGg"
      },
      "source": [
        "**enumerate charges** https://git.durrantlab.pitt.edu/jdurrant/dimorphite_dl/ (download from here)\n",
        "\n",
        "pH range 4.4-10.4\n"
      ]
    },
    {
      "cell_type": "code",
      "metadata": {
        "id": "6kBy5V5ZmFRA",
        "outputId": "d60f62b1-4147-4287-ad1f-860b6ced1168",
        "colab": {
          "base_uri": "https://localhost:8080/"
        }
      },
      "source": [
        "!pip install kora -q\n",
        "import kora.install.rdkit"
      ],
      "execution_count": null,
      "outputs": [
        {
          "output_type": "stream",
          "text": [
            "\u001b[K     |████████████████████████████████| 61kB 4.3MB/s \n",
            "\u001b[K     |████████████████████████████████| 51kB 6.5MB/s \n",
            "\u001b[?25h"
          ],
          "name": "stdout"
        }
      ]
    },
    {
      "cell_type": "code",
      "metadata": {
        "id": "e68RgqWImhVV"
      },
      "source": [
        "from tqdm import tqdm\n",
        "import subprocess\n",
        "import json\n",
        "import pandas as pd\n",
        "import rdkit\n",
        "from rdkit import Chem\n",
        "import requests, zipfile, io\n",
        "#The copied URL goes here ->\n",
        "r = requests.get( 'https://git.durrantlab.pitt.edu/jdurrant/dimorphite_dl/-/archive/1.2.4/dimorphite_dl-1.2.4.zip' ) \n",
        "z = zipfile.ZipFile(io.BytesIO(r.content))\n",
        "z.extractall()\n",
        "smile='O=C(NCCS)c1ccccc1​'\n",
        "min_ph=str(4.4)\n",
        "max_ph=str(8.4)"
      ],
      "execution_count": null,
      "outputs": []
    },
    {
      "cell_type": "code",
      "metadata": {
        "id": "w0rEprLUsFnY"
      },
      "source": [
        "def dimophite_run(smile, min_ph, max_ph):\n",
        "  process = subprocess.run(['python','dimorphite_dl-1.2.4/dimorphite_dl.py', '--smiles', smile, '--min_ph', min_ph, '--max_ph', max_ph, '--silent'], check=True, stdout=subprocess.PIPE, universal_newlines=True)\n",
        "  output = process.stdout\n",
        "  output_list=output.split(sep='\\t\\n')\n",
        "  output_list = list(filter(None, output_list))\n",
        "  return(output_list)"
      ],
      "execution_count": null,
      "outputs": []
    },
    {
      "cell_type": "code",
      "metadata": {
        "id": "fdgPxxfN-JbV",
        "outputId": "7abe20da-c215-4172-88ee-237433e5fbdc",
        "colab": {
          "base_uri": "https://localhost:8080/"
        }
      },
      "source": [
        "print(dimophite_run(smile, min_ph, max_ph))"
      ],
      "execution_count": null,
      "outputs": [
        {
          "output_type": "stream",
          "text": [
            "['O=C([N-]CCS)c1ccccc1', 'O=C(NCCS)c1ccccc1', 'O=C(NCC[S-])c1ccccc1', 'O=C([N-]CC[S-])c1ccccc1']\n"
          ],
          "name": "stdout"
        }
      ]
    },
    {
      "cell_type": "code",
      "metadata": {
        "id": "HMoAOgqE-Kea"
      },
      "source": [
        ""
      ],
      "execution_count": null,
      "outputs": []
    }
  ]
}