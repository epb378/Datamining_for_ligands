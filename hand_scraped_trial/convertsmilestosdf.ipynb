{
  "nbformat": 4,
  "nbformat_minor": 0,
  "metadata": {
    "colab": {
      "name": "convertsmilestosdf.ipynb",
      "provenance": [],
      "authorship_tag": "ABX9TyMFn1BRFuWE1a0seqcML8h9",
      "include_colab_link": true
    },
    "kernelspec": {
      "name": "python3",
      "display_name": "Python 3"
    }
  },
  "cells": [
    {
      "cell_type": "markdown",
      "metadata": {
        "id": "view-in-github",
        "colab_type": "text"
      },
      "source": [
        "<a href=\"https://colab.research.google.com/github/epb378/Datamining_for_ligands/blob/main/hand_scraped_trial/convertsmilestosdf.ipynb\" target=\"_parent\"><img src=\"https://colab.research.google.com/assets/colab-badge.svg\" alt=\"Open In Colab\"/></a>"
      ]
    },
    {
      "cell_type": "code",
      "metadata": {
        "id": "BGA83BFoFq5T",
        "outputId": "88e37060-e745-4fa7-df90-d58fe8b852ab",
        "colab": {
          "base_uri": "https://localhost:8080/"
        }
      },
      "source": [
        "!pip install kora -q\n",
        "!pip install pybel\n",
        "import kora.install.rdkit"
      ],
      "execution_count": null,
      "outputs": [
        {
          "output_type": "stream",
          "text": [
            "Requirement already satisfied: pybel in /usr/local/lib/python3.6/dist-packages (0.14.10)\n",
            "Requirement already satisfied: sqlalchemy in /usr/local/lib/python3.6/dist-packages (from pybel) (1.3.20)\n",
            "Requirement already satisfied: more-itertools in /usr/local/lib/python3.6/dist-packages (from pybel) (8.6.0)\n",
            "Requirement already satisfied: requests-file in /usr/local/lib/python3.6/dist-packages (from pybel) (1.5.1)\n",
            "Requirement already satisfied: requests in /usr/local/lib/python3.6/dist-packages (from pybel) (2.23.0)\n",
            "Requirement already satisfied: networkx>=2.4 in /usr/local/lib/python3.6/dist-packages (from pybel) (2.5)\n",
            "Requirement already satisfied: bel-resources>=0.0.3 in /usr/local/lib/python3.6/dist-packages (from pybel) (0.0.3)\n",
            "Requirement already satisfied: click in /usr/local/lib/python3.6/dist-packages (from pybel) (7.1.2)\n",
            "Requirement already satisfied: tqdm in /usr/local/lib/python3.6/dist-packages (from pybel) (4.41.1)\n",
            "Requirement already satisfied: pyparsing in /usr/local/lib/python3.6/dist-packages (from pybel) (2.4.7)\n",
            "Requirement already satisfied: click-plugins in /usr/local/lib/python3.6/dist-packages (from pybel) (1.1.1)\n",
            "Requirement already satisfied: pandas in /usr/local/lib/python3.6/dist-packages (from pybel) (1.1.4)\n",
            "Requirement already satisfied: six in /usr/local/lib/python3.6/dist-packages (from requests-file->pybel) (1.15.0)\n",
            "Requirement already satisfied: certifi>=2017.4.17 in /usr/local/lib/python3.6/dist-packages (from requests->pybel) (2020.6.20)\n",
            "Requirement already satisfied: chardet<4,>=3.0.2 in /usr/local/lib/python3.6/dist-packages (from requests->pybel) (3.0.4)\n",
            "Requirement already satisfied: urllib3!=1.25.0,!=1.25.1,<1.26,>=1.21.1 in /usr/local/lib/python3.6/dist-packages (from requests->pybel) (1.24.3)\n",
            "Requirement already satisfied: idna<3,>=2.5 in /usr/local/lib/python3.6/dist-packages (from requests->pybel) (2.10)\n",
            "Requirement already satisfied: decorator>=4.3.0 in /usr/local/lib/python3.6/dist-packages (from networkx>=2.4->pybel) (4.4.2)\n",
            "Requirement already satisfied: multisplitby in /usr/local/lib/python3.6/dist-packages (from bel-resources>=0.0.3->pybel) (0.0.1)\n",
            "Requirement already satisfied: python-dateutil>=2.7.3 in /usr/local/lib/python3.6/dist-packages (from pandas->pybel) (2.8.1)\n",
            "Requirement already satisfied: numpy>=1.15.4 in /usr/local/lib/python3.6/dist-packages (from pandas->pybel) (1.18.5)\n",
            "Requirement already satisfied: pytz>=2017.2 in /usr/local/lib/python3.6/dist-packages (from pandas->pybel) (2018.9)\n"
          ],
          "name": "stdout"
        }
      ]
    },
    {
      "cell_type": "code",
      "metadata": {
        "id": "VcoN9SYlFxu1"
      },
      "source": [
        ""
      ],
      "execution_count": null,
      "outputs": []
    },
    {
      "cell_type": "code",
      "metadata": {
        "id": "gwySt5h6L2zE"
      },
      "source": [
        "from tqdm import tqdm\n",
        "import subprocess\n",
        "import json\n",
        "import pandas as pd\n",
        "import rdkit\n",
        "from rdkit import Chem\n",
        "from rdkit.Chem import AllChem\n",
        "from rdkit.Chem import PandasTools"
      ],
      "execution_count": null,
      "outputs": []
    },
    {
      "cell_type": "code",
      "metadata": {
        "id": "nj8uF-wI-s-p",
        "outputId": "4904ba1a-81d8-479a-a9b7-ca7846a88657",
        "colab": {
          "base_uri": "https://localhost:8080/"
        }
      },
      "source": [
        "df = pd.read_csv('filename (3).txt',names=['SMILES', 'other'], sep=' ')\n",
        "df['SMILES']"
      ],
      "execution_count": null,
      "outputs": [
        {
          "output_type": "execute_result",
          "data": {
            "text/plain": [
              "0      CCC(C)C(C(=O)NC(CC(C)C)C(=O)NC(CO)C(=O)NC(CO)C...\n",
              "1                                              C=CC(=O)N\n",
              "2      C1CC(NC1)C(=O)NC(CCC(=O)N)C(=O)NCC(=O)N2CCCC2C...\n",
              "3                                        C(CCCCCN)CCCCCS\n",
              "4                  CC1C(OC=C2C1=C(C(=C(C2=O)C(=O)O)O)C)C\n",
              "                             ...                        \n",
              "754                                CC1C(C(C(C(O1)O)O)O)O\n",
              "755    C(C1C(C(C(C(O1)OCC2C(C(C(C(O2)OCC(C(C(C(C(=O)O...\n",
              "756                                                C1CN1\n",
              "757                               CC(=O)O[Hg]C1=CC=CC=C1\n",
              "758                 CN1CCN(CC1)C(C2=CC=CC=C2)C3=CC=CC=C3\n",
              "Name: SMILES, Length: 759, dtype: object"
            ]
          },
          "metadata": {
            "tags": []
          },
          "execution_count": 23
        }
      ]
    },
    {
      "cell_type": "code",
      "metadata": {
        "id": "ajP6_fscKMrr"
      },
      "source": [
        "df = pd.read_csv('filename (3).txt',names=['SMILES'])\n",
        "mols = [Chem.MolFromSmiles(smi) for smi in df.SMILES]\n"
      ],
      "execution_count": null,
      "outputs": []
    },
    {
      "cell_type": "code",
      "metadata": {
        "id": "eKDOWO7_D9Rm"
      },
      "source": [
        "def gen3Dsdf(mol):\n",
        "  m3 = Chem.AddHs(mol)\n",
        "  AllChem.EmbedMolecule(m3,randomSeed=0xf00d)\n",
        "  return Chem.MolToMolBlock(m3)"
      ],
      "execution_count": null,
      "outputs": []
    },
    {
      "cell_type": "code",
      "metadata": {
        "id": "SVLasO_LOtSr",
        "outputId": "eba43e66-be57-4935-b67b-0ce05d53177f",
        "colab": {
          "base_uri": "https://localhost:8080/"
        }
      },
      "source": [
        "mols_sdfs=[]\n",
        "for x in tqdm(mols):\n",
        "  try: \n",
        "    mols_sdfs.append(gen3Dsdf(x))\n",
        "  except:\n",
        "    pass"
      ],
      "execution_count": null,
      "outputs": [
        {
          "output_type": "stream",
          "text": [
            "100%|██████████| 759/759 [05:30<00:00,  2.30it/s]\n"
          ],
          "name": "stderr"
        }
      ]
    },
    {
      "cell_type": "code",
      "metadata": {
        "id": "fjoaTClbln4s",
        "outputId": "a96248aa-27d9-4141-a3d6-c22604e1effe",
        "colab": {
          "base_uri": "https://localhost:8080/"
        }
      },
      "source": [
        "print(len(mols_sdfs))\n",
        "\n",
        "print(len(mols))"
      ],
      "execution_count": null,
      "outputs": [
        {
          "output_type": "stream",
          "text": [
            "755\n",
            "759\n"
          ],
          "name": "stdout"
        }
      ]
    },
    {
      "cell_type": "code",
      "metadata": {
        "id": "fBi8ivKvmMOy",
        "outputId": "690ed25f-f5b2-45e3-92ef-94451bd4d660",
        "colab": {
          "base_uri": "https://localhost:8080/"
        }
      },
      "source": [
        "print(df['SMILES'][1] + '\\n' + mols_sdfs[1])"
      ],
      "execution_count": null,
      "outputs": [
        {
          "output_type": "stream",
          "text": [
            "C=CC(=O)N C=CC(=O)N\n",
            "\n",
            "     RDKit          3D\n",
            "\n",
            " 10  9  0  0  0  0  0  0  0  0999 V2000\n",
            "    1.7833    0.0168    0.0711 C   0  0  0  0  0  0  0  0  0  0  0  0\n",
            "    0.5543   -0.3431    0.3164 C   0  0  0  0  0  0  0  0  0  0  0  0\n",
            "   -0.5374    0.3394   -0.3144 C   0  0  0  0  0  0  0  0  0  0  0  0\n",
            "   -0.2844    1.2888   -1.1061 O   0  0  0  0  0  0  0  0  0  0  0  0\n",
            "   -1.8664   -0.0667   -0.0348 N   0  0  0  0  0  0  0  0  0  0  0  0\n",
            "    1.9974    0.8236   -0.6017 H   0  0  0  0  0  0  0  0  0  0  0  0\n",
            "    2.6393   -0.4899    0.5416 H   0  0  0  0  0  0  0  0  0  0  0  0\n",
            "    0.3718   -1.1479    0.9890 H   0  0  0  0  0  0  0  0  0  0  0  0\n",
            "   -2.5800    0.0206   -0.7646 H   0  0  0  0  0  0  0  0  0  0  0  0\n",
            "   -2.0778   -0.4414    0.9035 H   0  0  0  0  0  0  0  0  0  0  0  0\n",
            "  1  2  2  3\n",
            "  2  3  1  0\n",
            "  3  4  2  0\n",
            "  3  5  1  0\n",
            "  1  6  1  0\n",
            "  1  7  1  0\n",
            "  2  8  1  0\n",
            "  5  9  1  0\n",
            "  5 10  1  0\n",
            "M  END\n",
            "\n"
          ],
          "name": "stdout"
        }
      ]
    },
    {
      "cell_type": "code",
      "metadata": {
        "id": "SreKE0NOn03K",
        "outputId": "f7938393-43b4-4c3d-9b6d-6ffb4729d4bf",
        "colab": {
          "base_uri": "https://localhost:8080/",
          "height": 248
        }
      },
      "source": [
        "w = Chem.SDWriter('scraped_sdfs.sdf')\n",
        "for m in mols_sdfs: \n",
        "  w.write(m)"
      ],
      "execution_count": null,
      "outputs": [
        {
          "output_type": "error",
          "ename": "ArgumentError",
          "evalue": "ignored",
          "traceback": [
            "\u001b[0;31m---------------------------------------------------------------------------\u001b[0m",
            "\u001b[0;31mArgumentError\u001b[0m                             Traceback (most recent call last)",
            "\u001b[0;32m<ipython-input-34-327aa32714f6>\u001b[0m in \u001b[0;36m<module>\u001b[0;34m()\u001b[0m\n\u001b[1;32m      1\u001b[0m \u001b[0mw\u001b[0m \u001b[0;34m=\u001b[0m \u001b[0mChem\u001b[0m\u001b[0;34m.\u001b[0m\u001b[0mSDWriter\u001b[0m\u001b[0;34m(\u001b[0m\u001b[0;34m'scraped_sdfs.sdf'\u001b[0m\u001b[0;34m)\u001b[0m\u001b[0;34m\u001b[0m\u001b[0;34m\u001b[0m\u001b[0m\n\u001b[1;32m      2\u001b[0m \u001b[0;32mfor\u001b[0m \u001b[0mm\u001b[0m \u001b[0;32min\u001b[0m \u001b[0mmols\u001b[0m\u001b[0;34m:\u001b[0m\u001b[0;34m\u001b[0m\u001b[0;34m\u001b[0m\u001b[0m\n\u001b[0;32m----> 3\u001b[0;31m   \u001b[0mw\u001b[0m\u001b[0;34m.\u001b[0m\u001b[0mwrite\u001b[0m\u001b[0;34m(\u001b[0m\u001b[0mm\u001b[0m\u001b[0;34m)\u001b[0m\u001b[0;34m\u001b[0m\u001b[0;34m\u001b[0m\u001b[0m\n\u001b[0m",
            "\u001b[0;31mArgumentError\u001b[0m: Python argument types in\n    SDWriter.write(SDWriter, NoneType)\ndid not match C++ signature:\n    write(RDKit::SDWriter {lvalue} self, RDKit::ROMol {lvalue} mol, int confId=-1)"
          ]
        }
      ]
    },
    {
      "cell_type": "code",
      "metadata": {
        "id": "u_aTbkyspFHc"
      },
      "source": [
        ""
      ],
      "execution_count": null,
      "outputs": []
    }
  ]
}