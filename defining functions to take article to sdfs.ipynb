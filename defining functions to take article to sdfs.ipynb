{
  "nbformat": 4,
  "nbformat_minor": 0,
  "metadata": {
    "colab": {
      "name": "Untitled",
      "provenance": [],
      "authorship_tag": "ABX9TyNm6CIENZZRS+QtHU/n3NhQ",
      "include_colab_link": true
    },
    "kernelspec": {
      "name": "python3",
      "display_name": "Python 3"
    }
  },
  "cells": [
    {
      "cell_type": "markdown",
      "metadata": {
        "id": "view-in-github",
        "colab_type": "text"
      },
      "source": [
        "<a href=\"https://colab.research.google.com/github/epb378/Datamining_for_ligands/blob/main/defining%20functions%20to%20take%20article%20to%20sdfs.ipynb\" target=\"_parent\"><img src=\"https://colab.research.google.com/assets/colab-badge.svg\" alt=\"Open In Colab\"/></a>"
      ]
    },
    {
      "cell_type": "markdown",
      "metadata": {
        "id": "73J3qhfTAeS6"
      },
      "source": [
        "**Step 1: Scrape HTML document for chemicals**"
      ]
    },
    {
      "cell_type": "code",
      "metadata": {
        "id": "6PeNatpyMrNz",
        "outputId": "faff5b65-19bc-4f50-e48c-f4a48b4c935a",
        "colab": {
          "base_uri": "https://localhost:8080/"
        }
      },
      "source": [
        "\n",
        "#trial data to test pipeline\n",
        "!wget -O trialhtml.html https://pubs.rsc.org/en/content/articlehtml/2009/jm/b901933b"
      ],
      "execution_count": null,
      "outputs": [
        {
          "output_type": "stream",
          "text": [
            "--2020-11-12 16:03:40--  https://pubs.rsc.org/en/content/articlehtml/2009/jm/b901933b\n",
            "Resolving pubs.rsc.org (pubs.rsc.org)... 78.25.196.229\n",
            "Connecting to pubs.rsc.org (pubs.rsc.org)|78.25.196.229|:443... connected.\n",
            "HTTP request sent, awaiting response... 302 Found\n",
            "Location: /en/content/articlelanding/2009/jm/b901933b/unauth [following]\n",
            "--2020-11-12 16:03:41--  https://pubs.rsc.org/en/content/articlelanding/2009/jm/b901933b/unauth\n",
            "Reusing existing connection to pubs.rsc.org:443.\n",
            "HTTP request sent, awaiting response... 200 OK\n",
            "Length: 141997 (139K) [text/html]\n",
            "Saving to: ‘trialhtml.html’\n",
            "\n",
            "trialhtml.html      100%[===================>] 138.67K   502KB/s    in 0.3s    \n",
            "\n",
            "2020-11-12 16:03:41 (502 KB/s) - ‘trialhtml.html’ saved [141997/141997]\n",
            "\n"
          ],
          "name": "stdout"
        }
      ]
    },
    {
      "cell_type": "code",
      "metadata": {
        "id": "K8-SI4m2AdJD",
        "outputId": "b7de65f7-e68c-40ad-f537-1b7a777f9bb8",
        "colab": {
          "base_uri": "https://localhost:8080/"
        }
      },
      "source": [
        "#get chemicalfilters.py and ligandfinder.py from github\n",
        "!wget https://raw.githubusercontent.com/epb378/Datamining_for_ligands/main/chemicalfilters.py\n",
        "!wget https://raw.githubusercontent.com/epb378/Datamining_for_ligands/main/ligandfinder.py\n"
      ],
      "execution_count": null,
      "outputs": [
        {
          "output_type": "stream",
          "text": [
            "--2020-11-12 15:56:49--  https://raw.githubusercontent.com/epb378/Datamining_for_ligands/main/chemicalfilters.py\n",
            "Resolving raw.githubusercontent.com (raw.githubusercontent.com)... 151.101.0.133, 151.101.64.133, 151.101.128.133, ...\n",
            "Connecting to raw.githubusercontent.com (raw.githubusercontent.com)|151.101.0.133|:443... connected.\n",
            "HTTP request sent, awaiting response... 200 OK\n",
            "Length: 292 [text/plain]\n",
            "Saving to: ‘chemicalfilters.py.2’\n",
            "\n",
            "\rchemicalfilters.py.   0%[                    ]       0  --.-KB/s               \rchemicalfilters.py. 100%[===================>]     292  --.-KB/s    in 0s      \n",
            "\n",
            "2020-11-12 15:56:49 (17.8 MB/s) - ‘chemicalfilters.py.2’ saved [292/292]\n",
            "\n",
            "--2020-11-12 15:56:49--  https://raw.githubusercontent.com/epb378/Datamining_for_ligands/main/ligandfinder.py\n",
            "Resolving raw.githubusercontent.com (raw.githubusercontent.com)... 151.101.0.133, 151.101.64.133, 151.101.128.133, ...\n",
            "Connecting to raw.githubusercontent.com (raw.githubusercontent.com)|151.101.0.133|:443... connected.\n",
            "HTTP request sent, awaiting response... 200 OK\n",
            "Length: 1119 (1.1K) [text/plain]\n",
            "Saving to: ‘ligandfinder.py.2’\n",
            "\n",
            "ligandfinder.py.2   100%[===================>]   1.09K  --.-KB/s    in 0s      \n",
            "\n",
            "2020-11-12 15:56:49 (62.9 MB/s) - ‘ligandfinder.py.2’ saved [1119/1119]\n",
            "\n",
            "--2020-11-12 15:56:50--  https://pubs.rsc.org/en/content/articlehtml/2012/cs/c2cs35197h\n",
            "Resolving pubs.rsc.org (pubs.rsc.org)... 78.25.196.229\n",
            "Connecting to pubs.rsc.org (pubs.rsc.org)|78.25.196.229|:443... connected.\n",
            "HTTP request sent, awaiting response... 302 Found\n",
            "Location: /en/content/articlelanding/2012/cs/c2cs35197h/unauth [following]\n",
            "--2020-11-12 15:56:50--  https://pubs.rsc.org/en/content/articlelanding/2012/cs/c2cs35197h/unauth\n",
            "Reusing existing connection to pubs.rsc.org:443.\n",
            "HTTP request sent, awaiting response... 200 OK\n",
            "Length: 116653 (114K) [text/html]\n",
            "Saving to: ‘trialhtml.html’\n",
            "\n",
            "trialhtml.html      100%[===================>] 113.92K   421KB/s    in 0.3s    \n",
            "\n",
            "2020-11-12 15:56:50 (421 KB/s) - ‘trialhtml.html’ saved [116653/116653]\n",
            "\n"
          ],
          "name": "stdout"
        }
      ]
    },
    {
      "cell_type": "code",
      "metadata": {
        "id": "Q1IZe73_AXPb",
        "outputId": "455022f4-46f7-47f1-d51f-b37b0bad7612",
        "colab": {
          "base_uri": "https://localhost:8080/"
        }
      },
      "source": [
        "!pip install chemdataextractor\n",
        "!pip install mendeleev\n",
        "!pip install kora -q\n",
        "!cde data download\n",
        "!pip install json2html\n"
      ],
      "execution_count": null,
      "outputs": [
        {
          "output_type": "stream",
          "text": [
            "Requirement already satisfied: chemdataextractor in /usr/local/lib/python3.6/dist-packages (1.3.0)\n",
            "Requirement already satisfied: DAWG in /usr/local/lib/python3.6/dist-packages (from chemdataextractor) (0.8.0)\n",
            "Requirement already satisfied: pdfminer.six in /usr/local/lib/python3.6/dist-packages (from chemdataextractor) (20201018)\n",
            "Requirement already satisfied: python-dateutil in /usr/local/lib/python3.6/dist-packages (from chemdataextractor) (2.8.1)\n",
            "Requirement already satisfied: cssselect in /usr/local/lib/python3.6/dist-packages (from chemdataextractor) (1.1.0)\n",
            "Requirement already satisfied: python-crfsuite in /usr/local/lib/python3.6/dist-packages (from chemdataextractor) (0.9.7)\n",
            "Requirement already satisfied: six in /usr/local/lib/python3.6/dist-packages (from chemdataextractor) (1.15.0)\n",
            "Requirement already satisfied: beautifulsoup4 in /usr/local/lib/python3.6/dist-packages (from chemdataextractor) (4.6.3)\n",
            "Requirement already satisfied: appdirs in /usr/local/lib/python3.6/dist-packages (from chemdataextractor) (1.4.4)\n",
            "Requirement already satisfied: nltk in /usr/local/lib/python3.6/dist-packages (from chemdataextractor) (3.2.5)\n",
            "Requirement already satisfied: click in /usr/local/lib/python3.6/dist-packages (from chemdataextractor) (7.1.2)\n",
            "Requirement already satisfied: PyYAML in /usr/local/lib/python3.6/dist-packages (from chemdataextractor) (3.13)\n",
            "Requirement already satisfied: requests in /usr/local/lib/python3.6/dist-packages (from chemdataextractor) (2.23.0)\n",
            "Requirement already satisfied: lxml in /usr/local/lib/python3.6/dist-packages (from chemdataextractor) (4.2.6)\n",
            "Requirement already satisfied: sortedcontainers in /usr/local/lib/python3.6/dist-packages (from pdfminer.six->chemdataextractor) (2.2.2)\n",
            "Requirement already satisfied: cryptography in /usr/local/lib/python3.6/dist-packages (from pdfminer.six->chemdataextractor) (3.2.1)\n",
            "Requirement already satisfied: chardet; python_version > \"3.0\" in /usr/local/lib/python3.6/dist-packages (from pdfminer.six->chemdataextractor) (3.0.4)\n",
            "Requirement already satisfied: idna<3,>=2.5 in /usr/local/lib/python3.6/dist-packages (from requests->chemdataextractor) (2.10)\n",
            "Requirement already satisfied: certifi>=2017.4.17 in /usr/local/lib/python3.6/dist-packages (from requests->chemdataextractor) (2020.6.20)\n",
            "Requirement already satisfied: urllib3!=1.25.0,!=1.25.1,<1.26,>=1.21.1 in /usr/local/lib/python3.6/dist-packages (from requests->chemdataextractor) (1.24.3)\n",
            "Requirement already satisfied: cffi!=1.11.3,>=1.8 in /usr/local/lib/python3.6/dist-packages (from cryptography->pdfminer.six->chemdataextractor) (1.14.3)\n",
            "Requirement already satisfied: pycparser in /usr/local/lib/python3.6/dist-packages (from cffi!=1.11.3,>=1.8->cryptography->pdfminer.six->chemdataextractor) (2.20)\n",
            "Requirement already satisfied: mendeleev in /usr/local/lib/python3.6/dist-packages (0.6.1)\n",
            "Requirement already satisfied: pyfiglet in /usr/local/lib/python3.6/dist-packages (from mendeleev) (0.8.post1)\n",
            "Requirement already satisfied: sqlalchemy>=1.3.0 in /usr/local/lib/python3.6/dist-packages (from mendeleev) (1.3.20)\n",
            "Requirement already satisfied: numpy in /usr/local/lib/python3.6/dist-packages (from mendeleev) (1.18.5)\n",
            "Requirement already satisfied: colorama in /usr/local/lib/python3.6/dist-packages (from mendeleev) (0.4.4)\n",
            "Requirement already satisfied: pandas in /usr/local/lib/python3.6/dist-packages (from mendeleev) (1.1.4)\n",
            "Requirement already satisfied: python-dateutil>=2.7.3 in /usr/local/lib/python3.6/dist-packages (from pandas->mendeleev) (2.8.1)\n",
            "Requirement already satisfied: pytz>=2017.2 in /usr/local/lib/python3.6/dist-packages (from pandas->mendeleev) (2018.9)\n",
            "Requirement already satisfied: six>=1.5 in /usr/local/lib/python3.6/dist-packages (from python-dateutil>=2.7.3->pandas->mendeleev) (1.15.0)\n",
            "Successfully downloaded 0 new data packages (18 existing)\n",
            "Collecting json2html\n",
            "  Downloading https://files.pythonhosted.org/packages/01/d5/40b617ee19d2d79f606ed37f8a81e51158f126d2af67270c68f2b47ae0d5/json2html-1.3.0.tar.gz\n",
            "Building wheels for collected packages: json2html\n",
            "  Building wheel for json2html (setup.py) ... \u001b[?25l\u001b[?25hdone\n",
            "  Created wheel for json2html: filename=json2html-1.3.0-cp36-none-any.whl size=7595 sha256=c8cfbc43672198c723aca16d6a67c6cfa36e1e997d8063d24ed7b628d189e795\n",
            "  Stored in directory: /root/.cache/pip/wheels/58/36/ad/386be30507bcb8f0c9830004bd776132eba63c1b945ed79255\n",
            "Successfully built json2html\n",
            "Installing collected packages: json2html\n",
            "Successfully installed json2html-1.3.0\n"
          ],
          "name": "stdout"
        }
      ]
    },
    {
      "cell_type": "code",
      "metadata": {
        "id": "Y2tplpEqB7G6"
      },
      "source": [
        "from tqdm import tqdm\n",
        "import time\n",
        "import urllib.request\n",
        "import json\n",
        "import pandas as pd\n",
        "import kora.install.rdkit\n",
        "import rdkit\n",
        "from rdkit import Chem\n",
        "from rdkit.Chem import AllChem\n",
        "from rdkit.Chem import PandasTools\n",
        "import subprocess\n",
        "import requests, zipfile, io\n",
        "cids_url_head='https://pubchem.ncbi.nlm.nih.gov/rest/pug/compound/name/'\n",
        "cids_url_tail='/cids/json?name_type=word' #THIS IS FOR PARTIAL MATCHES_returns a list of CIDS\n",
        "#info about this here https://pubchemdocs.ncbi.nlm.nih.gov/pug-rest-tutorial\n",
        "SMILES_url_head='https://pubchem.ncbi.nlm.nih.gov/rest/pug/compound/cid/'\n",
        "SMILES_url_tail='/property/CanonicalSMILES/txt'\n",
        "wait_time=0.5\n",
        "r = requests.get( 'https://git.durrantlab.pitt.edu/jdurrant/dimorphite_dl/-/archive/1.2.4/dimorphite_dl-1.2.4.zip' ) \n",
        "z = zipfile.ZipFile(io.BytesIO(r.content))\n",
        "z.extractall()"
      ],
      "execution_count": null,
      "outputs": []
    },
    {
      "cell_type": "code",
      "metadata": {
        "id": "t9zPPz4hGHlI"
      },
      "source": [
        "import chemicalfilters as cf\n",
        "import ligandfinder as lf\n",
        "import json2html\n",
        "\n",
        "\n",
        "def dimophite_run(smile, min_ph, max_ph):\n",
        "  process = subprocess.run(['python','dimorphite_dl-1.2.4/dimorphite_dl.py', '--smiles', smile, '--min_ph', str(min_ph), '--max_ph', str(max_ph), '--silent'], check=True, stdout=subprocess.PIPE, universal_newlines=True)\n",
        "  output = process.stdout\n",
        "  output_list=output.split(sep='\\t\\n')\n",
        "  output_list = list(filter(None, output_list))\n",
        "  return output_list\n",
        "\n",
        "def gen3Dsdf(mol):\n",
        "  m3 = Chem.AddHs(mol)\n",
        "  AllChem.EmbedMolecule(m3,randomSeed=0xf00d)\n",
        "  return Chem.MolToMolBlock(m3)\n",
        "\n",
        "\n",
        "def chem_names_to_smiles(chems_list):\n",
        "    ##chemical name to cids to smiles\n",
        "  for i in range(0,len(chems_list)):\n",
        "    chem_url=cids_url_head+chems_list[i][0]+cids_url_tail\n",
        "    try:\n",
        "      with urllib.request.urlopen(chem_url) as response:\n",
        "        data=json.load(response)\n",
        "      cids_list.append(data)\n",
        "      bare_cid=cids_list[i]['IdentifierList']['CID'][0]\n",
        "      SMILES_url=SMILES_url_head+str(bare_cid)+SMILES_url_tail\n",
        "      time.sleep(wait_time)\n",
        "      try:\n",
        "        with urllib.request.urlopen(SMILES_url) as response:\n",
        "          data=response.read().decode(\"utf-8\")\n",
        "        SMILES_list.append(data)\n",
        "      except:\n",
        "        SMILES_list.append('')\n",
        "      time.sleep(wait_time)\n",
        "    except:\n",
        "      time.sleep(wait_time)\n",
        "      cids_list.append('')\n",
        "\n",
        "    return SMILES_list"
      ],
      "execution_count": null,
      "outputs": []
    },
    {
      "cell_type": "code",
      "metadata": {
        "id": "luhRWjOTGopa"
      },
      "source": [
        "test_article= 'https://pubs.rsc.org/en/content/articlehtml/2012/cs/c2cs35197h'\n",
        "\n",
        "chems_list=['acetone','toluene','acetic acid','hexanoic acid','potassium nitrate']\n",
        "cids_list=[]\n",
        "SMILES_list=[]"
      ],
      "execution_count": null,
      "outputs": []
    },
    {
      "cell_type": "code",
      "metadata": {
        "id": "-H0eyKVmItHm",
        "outputId": "07b11325-1a82-47c1-d0d0-21ae803c2d07",
        "colab": {
          "base_uri": "https://localhost:8080/"
        }
      },
      "source": [
        "chems_list=lf.ligandfinder('trialhtml.html',0)\n",
        "print(chems_list)"
      ],
      "execution_count": null,
      "outputs": [
        {
          "output_type": "stream",
          "text": [
            "[('Tel', 0), ('TiO2', 0), ('Al2O3', 0), ('ZrO2', 0), ('MnO', 0), ('CeO2', 0), ('Anupreet Kaur', 0)]\n"
          ],
          "name": "stdout"
        }
      ]
    },
    {
      "cell_type": "markdown",
      "metadata": {
        "id": "Fh1TXDOpIuDX"
      },
      "source": [
        "**Step 2: Convert scraped chemicals to cids, smiles, enumerated smiles and finally SDFs**"
      ]
    },
    {
      "cell_type": "code",
      "metadata": {
        "id": "O0h2-qPiDjbY",
        "outputId": "18f9afb5-ea29-4d9c-fc25-cb37ff32d1ba",
        "colab": {
          "base_uri": "https://localhost:8080/"
        }
      },
      "source": [
        "##chemical name to cids to smiles\n",
        "for i in tqdm(range(0,len(chems_list))):\n",
        "  chem_url=cids_url_head+chems_list[i][0]+cids_url_tail\n",
        "  try:\n",
        "    with urllib.request.urlopen(chem_url) as response:\n",
        "      data=json.load(response)\n",
        "    cids_list.append(data)\n",
        "    bare_cid=cids_list[i]['IdentifierList']['CID'][0]\n",
        "    SMILES_url=SMILES_url_head+str(bare_cid)+SMILES_url_tail\n",
        "    time.sleep(wait_time)\n",
        "    try:\n",
        "      with urllib.request.urlopen(SMILES_url) as response:\n",
        "        data=response.read().decode(\"utf-8\")\n",
        "      SMILES_list.append(data)\n",
        "    except:\n",
        "      SMILES_list.append('')\n",
        "    time.sleep(wait_time)\n",
        "  except:\n",
        "    time.sleep(wait_time)\n",
        "    cids_list.append('')\n",
        "  "
      ],
      "execution_count": null,
      "outputs": [
        {
          "output_type": "stream",
          "text": [
            "100%|██████████| 7/7 [00:08<00:00,  1.26s/it]\n"
          ],
          "name": "stderr"
        }
      ]
    },
    {
      "cell_type": "code",
      "metadata": {
        "id": "4Qw_5zybHL0q",
        "outputId": "6f16cdf5-923d-4787-f19b-d8a5339c9f50",
        "colab": {
          "base_uri": "https://localhost:8080/"
        }
      },
      "source": [
        ""
      ],
      "execution_count": null,
      "outputs": [
        {
          "output_type": "stream",
          "text": [
            "['CC[Pb](CC)(CC)CC\\n', 'O=[Ti]=O\\n', 'O=[Al]O[Al]=O\\n', 'O=[Zr]=O\\n', 'C1=CC2=C(C=C3C4=C2C(=C1)C(=O)C5=CC(=C6C=CC=C(C6=C54)C3=O)Br)Br\\n', 'O=[Ce]=O\\n']\n"
          ],
          "name": "stdout"
        }
      ]
    },
    {
      "cell_type": "markdown",
      "metadata": {
        "id": "B3wEFnR7Rgk3"
      },
      "source": [
        "**Step 2.2:** Enumerate charges"
      ]
    },
    {
      "cell_type": "code",
      "metadata": {
        "id": "EjGCtjcQM4i6"
      },
      "source": [
        "extra_smiles=[]\n",
        "for smile in SMILES_list:\n",
        "  extra_smiles= extra_smiles+dimophite_run(smile, 4.4, 8.4)\n",
        "SMILES_list=extra_smiles"
      ],
      "execution_count": null,
      "outputs": []
    },
    {
      "cell_type": "code",
      "metadata": {
        "id": "lEbmlni1Qmps"
      },
      "source": [
        "mols = [Chem.MolFromSmiles(smi) for smi in SMILES_list]"
      ],
      "execution_count": null,
      "outputs": []
    },
    {
      "cell_type": "markdown",
      "metadata": {
        "id": "R9DqFC0SRmbu"
      },
      "source": [
        "**Step 2.3:** All smiles to sdfs"
      ]
    },
    {
      "cell_type": "code",
      "metadata": {
        "id": "RYDLvo87Qo6e",
        "outputId": "032c23bc-c8e0-412f-a0e3-8e0ab7aa1915",
        "colab": {
          "base_uri": "https://localhost:8080/"
        }
      },
      "source": [
        "mols_sdfs=[]\n",
        "for x in tqdm(mols):\n",
        "  try: \n",
        "    mols_sdfs.append(gen3Dsdf(x))\n",
        "  except:\n",
        "    pass"
      ],
      "execution_count": null,
      "outputs": [
        {
          "output_type": "stream",
          "text": [
            "100%|██████████| 12/12 [00:00<00:00, 165.09it/s]\n"
          ],
          "name": "stderr"
        }
      ]
    },
    {
      "cell_type": "code",
      "metadata": {
        "id": "k0fZ2T7gQpoe",
        "outputId": "1bfab2b2-748e-4e92-c1da-96f46bf9b175",
        "colab": {
          "base_uri": "https://localhost:8080/"
        }
      },
      "source": [
        "print(SMILES_list[1] + '\\n' + mols_sdfs[1] +'\\n' + '$$$$ \\n' )"
      ],
      "execution_count": null,
      "outputs": [
        {
          "output_type": "stream",
          "text": [
            "O=[Ti]=O\n",
            "\n",
            "     RDKit          3D\n",
            "\n",
            "  3  2  0  0  0  0  0  0  0  0999 V2000\n",
            "   -1.6344   -0.4392   -0.0000 O   0  0  0  0  0  0  0  0  0  0  0  0\n",
            "   -0.4242    0.6534   -0.0000 Ti  0  0  0  0  0  4  0  0  0  0  0  0\n",
            "    2.0587   -0.2141    0.0000 O   0  0  0  0  0  0  0  0  0  0  0  0\n",
            "  1  2  2  0\n",
            "  2  3  2  0\n",
            "M  END\n",
            "\n",
            "$$$$ \n",
            "\n"
          ],
          "name": "stdout"
        }
      ]
    },
    {
      "cell_type": "code",
      "metadata": {
        "id": "r1dZnEaSRYk2"
      },
      "source": [
        "### writing sdfs to file\n",
        "\n",
        "with open('your_file.txt', 'w') as f:\n",
        "    for i in range(0,len(SMILES_list)):\n",
        "        f.write(SMILES_list[i] + '\\n' + mols_sdfs[i] +'\\n' + '$$$$ \\n') ###this format will need to be changed to make it readable by the docking software"
      ],
      "execution_count": null,
      "outputs": []
    },
    {
      "cell_type": "code",
      "metadata": {
        "id": "s-JRmrgOTVb_"
      },
      "source": [
        "def article_to_sdfs(html_file, output_file=None, index=0, min_pH=4.4, max_pH=8.4):\n",
        "  if output_file==None:\n",
        "    output_file='temp_output.txt'\n",
        "  chems_list=lf.ligandfinder(html_file,index) #scrape HTML for ligands/surfactant/coordinating solvents etc.\n",
        "  SMILES_list=chem_names_to_smiles(chems_list) #use pubchem to search for SMILES from chem names (via CIDS)\n",
        "  extra_smiles=[]\n",
        "  for smile in SMILES_list:\n",
        "    extra_smiles= extra_smiles+dimophite_run(smile, min_pH, max_pH) #See if there are any other charged states in the pH range of interest\n",
        "  SMILES_list=extra_smiles\n",
        "  mols = [Chem.MolFromSmiles(smi) for smi in SMILES_list] # use RDkit to convert smiles to mol format\n",
        "  mols_sdfs=[]\n",
        "  for x in mols:\n",
        "    try: \n",
        "      mols_sdfs.append(gen3Dsdf(x)) #try to turn these mols formats into SDF docs\n",
        "    except:\n",
        "      pass  \n",
        "  with open(output_file, 'w') as f:\n",
        "    for i in range(0,len(SMILES_list)):\n",
        "        f.write(SMILES_list[i] + '\\n' + mols_sdfs[i] +'\\n' + '$$$$ \\n') ###this format will need to be changed to make it readable by the docking software\n"
      ],
      "execution_count": null,
      "outputs": []
    },
    {
      "cell_type": "code",
      "metadata": {
        "id": "fwoMuGMSVgnZ"
      },
      "source": [
        "article_to_sdfs('trialhtml.html')"
      ],
      "execution_count": null,
      "outputs": []
    },
    {
      "cell_type": "code",
      "metadata": {
        "id": "VgWQbDFCVn7K"
      },
      "source": [
        ""
      ],
      "execution_count": null,
      "outputs": []
    }
  ]
}